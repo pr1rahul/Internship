{
 "cells": [
  {
   "cell_type": "code",
   "execution_count": 1,
   "id": "25ce6782",
   "metadata": {},
   "outputs": [],
   "source": [
    "from bs4 import BeautifulSoup\n",
    "import requests\n",
    "import pandas as pd"
   ]
  },
  {
   "cell_type": "markdown",
   "id": "0c4b3177",
   "metadata": {},
   "source": [
    "1) Write a python program to display all the header tags from wikipedia.org.\n"
   ]
  },
  {
   "cell_type": "code",
   "execution_count": 2,
   "id": "daaa75d6",
   "metadata": {},
   "outputs": [
    {
     "name": "stdout",
     "output_type": "stream",
     "text": [
      "Wikipedia\n",
      "\n",
      "The Free Encyclopedia\n",
      "1,000,000+\n",
      "\n",
      "\n",
      "articles\n",
      "100,000+\n",
      "\n",
      "\n",
      "articles\n",
      "10,000+\n",
      "\n",
      "\n",
      "articles\n",
      "1,000+\n",
      "\n",
      "\n",
      "articles\n",
      "100+\n",
      "\n",
      "\n",
      "articles\n"
     ]
    }
   ],
   "source": [
    "page = requests.get(\"https://www.wikipedia.org/\")\n",
    "\n",
    "soup = BeautifulSoup(page.content, \"html.parser\")\n",
    "\n",
    "headers = soup.find_all([\"h1\",\"h2\", \"h3\", \"h4\", \"h5\", \"h6\"])\n",
    "for i in headers:\n",
    "    print(i.text.strip())"
   ]
  },
  {
   "cell_type": "markdown",
   "id": "fc2828e2",
   "metadata": {},
   "source": [
    "2) Write a python program to display IMDB’s Top rated 100 movies’ data (i.e. name, rating, year of release) and make data frame.\n"
   ]
  },
  {
   "cell_type": "code",
   "execution_count": 3,
   "id": "6c4996ee",
   "metadata": {},
   "outputs": [],
   "source": [
    "page = requests.get(\"https://www.imdb.com/list/ls091520106/\")\n",
    "soup = BeautifulSoup(page.content)"
   ]
  },
  {
   "cell_type": "code",
   "execution_count": 4,
   "id": "6727ee29",
   "metadata": {},
   "outputs": [],
   "source": [
    "# Movie names\n",
    "\n",
    "movies =[]\n",
    "for i in soup.find_all(\"h3\", class_=\"lister-item-header\"):\n",
    "    movies.append(i.text.strip())"
   ]
  },
  {
   "cell_type": "code",
   "execution_count": 5,
   "id": "67ad90d0",
   "metadata": {},
   "outputs": [],
   "source": [
    "# Ratings\n",
    "\n",
    "ratings = []\n",
    "for i in soup.find_all(\"div\", class_=\"ipl-rating-star small\"):\n",
    "    ratings.append(i.text.strip())"
   ]
  },
  {
   "cell_type": "code",
   "execution_count": 6,
   "id": "4b708d49",
   "metadata": {},
   "outputs": [],
   "source": [
    "# Year Of release\n",
    "\n",
    "year = []\n",
    "for i in soup.find_all(\"span\", class_=\"lister-item-year text-muted unbold\"):\n",
    "    year.append(i.text.strip())"
   ]
  },
  {
   "cell_type": "code",
   "execution_count": 7,
   "id": "88e5f4ab",
   "metadata": {},
   "outputs": [
    {
     "data": {
      "text/html": [
       "<div>\n",
       "<style scoped>\n",
       "    .dataframe tbody tr th:only-of-type {\n",
       "        vertical-align: middle;\n",
       "    }\n",
       "\n",
       "    .dataframe tbody tr th {\n",
       "        vertical-align: top;\n",
       "    }\n",
       "\n",
       "    .dataframe thead th {\n",
       "        text-align: right;\n",
       "    }\n",
       "</style>\n",
       "<table border=\"1\" class=\"dataframe\">\n",
       "  <thead>\n",
       "    <tr style=\"text-align: right;\">\n",
       "      <th></th>\n",
       "      <th>Ratings</th>\n",
       "      <th>Year of Release</th>\n",
       "      <th>Movies Name</th>\n",
       "    </tr>\n",
       "  </thead>\n",
       "  <tbody>\n",
       "    <tr>\n",
       "      <th>0</th>\n",
       "      <td>9.3</td>\n",
       "      <td>(1994)</td>\n",
       "      <td>The Shawshank Redemption</td>\n",
       "    </tr>\n",
       "    <tr>\n",
       "      <th>1</th>\n",
       "      <td>9.2</td>\n",
       "      <td>(1972)</td>\n",
       "      <td>The Godfather</td>\n",
       "    </tr>\n",
       "    <tr>\n",
       "      <th>2</th>\n",
       "      <td>9</td>\n",
       "      <td>(1974)</td>\n",
       "      <td>The Godfather Part II</td>\n",
       "    </tr>\n",
       "    <tr>\n",
       "      <th>3</th>\n",
       "      <td>9</td>\n",
       "      <td>(2008)</td>\n",
       "      <td>The Dark Knight</td>\n",
       "    </tr>\n",
       "    <tr>\n",
       "      <th>4</th>\n",
       "      <td>9</td>\n",
       "      <td>(1957)</td>\n",
       "      <td>12 Angry Men</td>\n",
       "    </tr>\n",
       "    <tr>\n",
       "      <th>...</th>\n",
       "      <td>...</td>\n",
       "      <td>...</td>\n",
       "      <td>...</td>\n",
       "    </tr>\n",
       "    <tr>\n",
       "      <th>95</th>\n",
       "      <td>8.3</td>\n",
       "      <td>(1959)</td>\n",
       "      <td>North by Northwest</td>\n",
       "    </tr>\n",
       "    <tr>\n",
       "      <th>96</th>\n",
       "      <td>8.3</td>\n",
       "      <td>(1971)</td>\n",
       "      <td>A Clockwork Orange</td>\n",
       "    </tr>\n",
       "    <tr>\n",
       "      <th>97</th>\n",
       "      <td>8.2</td>\n",
       "      <td>(2000)</td>\n",
       "      <td>Snatch</td>\n",
       "    </tr>\n",
       "    <tr>\n",
       "      <th>98</th>\n",
       "      <td>8.3</td>\n",
       "      <td>(2001)</td>\n",
       "      <td>Le fabuleux destin d'Amélie Poulain</td>\n",
       "    </tr>\n",
       "    <tr>\n",
       "      <th>99</th>\n",
       "      <td>8.2</td>\n",
       "      <td>(1921)</td>\n",
       "      <td>The Kid</td>\n",
       "    </tr>\n",
       "  </tbody>\n",
       "</table>\n",
       "<p>100 rows × 3 columns</p>\n",
       "</div>"
      ],
      "text/plain": [
       "   Ratings Year of Release                          Movies Name\n",
       "0      9.3          (1994)             The Shawshank Redemption\n",
       "1      9.2          (1972)                        The Godfather\n",
       "2        9          (1974)                The Godfather Part II\n",
       "3        9          (2008)                      The Dark Knight\n",
       "4        9          (1957)                         12 Angry Men\n",
       "..     ...             ...                                  ...\n",
       "95     8.3          (1959)                   North by Northwest\n",
       "96     8.3          (1971)                   A Clockwork Orange\n",
       "97     8.2          (2000)                               Snatch\n",
       "98     8.3          (2001)  Le fabuleux destin d'Amélie Poulain\n",
       "99     8.2          (1921)                              The Kid\n",
       "\n",
       "[100 rows x 3 columns]"
      ]
     },
     "execution_count": 7,
     "metadata": {},
     "output_type": "execute_result"
    }
   ],
   "source": [
    "df = pd.DataFrame({\"Movie Name\": movies, \"Ratings\":ratings, \"Year of Release\":year})\n",
    "\n",
    "def get_name(movie):\n",
    "    return movie.split(\"\\n\")[1].strip(\" \")\n",
    "\n",
    "df['Movies Name'] = df['Movie Name'].apply(lambda x: f\"{get_name(x)}\") \n",
    "df.drop([\"Movie Name\"], axis=1, inplace=True)\n",
    "df"
   ]
  },
  {
   "cell_type": "markdown",
   "id": "89b1d378",
   "metadata": {},
   "source": [
    "3) Write a python program to scrape mentioned details from dineout.co.in : i) Restaurant name ii) Cuisine iii) Location iv) Ratings v) Image URL.\n"
   ]
  },
  {
   "cell_type": "code",
   "execution_count": 8,
   "id": "692465a4",
   "metadata": {},
   "outputs": [],
   "source": [
    "page = requests.get(\"https://www.dineout.co.in/delhi-restaurants\")\n",
    "soup = BeautifulSoup(page.content)"
   ]
  },
  {
   "cell_type": "code",
   "execution_count": 9,
   "id": "32f2f53d",
   "metadata": {},
   "outputs": [
    {
     "data": {
      "text/plain": [
       "'Delia My Bar Headquarters'"
      ]
     },
     "execution_count": 9,
     "metadata": {},
     "output_type": "execute_result"
    }
   ],
   "source": [
    "# i) Restaurant Name\n",
    "r_name = soup.find(\"a\", class_=\"restnt-name ellipsis\")\n",
    "r_name.text"
   ]
  },
  {
   "cell_type": "code",
   "execution_count": 10,
   "id": "a27d53d5",
   "metadata": {},
   "outputs": [
    {
     "data": {
      "text/plain": [
       "'₹ 1,600 for 2 (approx) | North Indian, Chinese, Fast Food, Beverages'"
      ]
     },
     "execution_count": 10,
     "metadata": {},
     "output_type": "execute_result"
    }
   ],
   "source": [
    "# ii) Cuisine\n",
    "c_name = soup.find(\"span\", class_=\"double-line-ellipsis\")\n",
    "c_name.text"
   ]
  },
  {
   "cell_type": "code",
   "execution_count": 11,
   "id": "5e9e9ee5",
   "metadata": {},
   "outputs": [
    {
     "data": {
      "text/plain": [
       "'Karol Bagh, Central Delhi'"
      ]
     },
     "execution_count": 11,
     "metadata": {},
     "output_type": "execute_result"
    }
   ],
   "source": [
    "# iii) Location\n",
    "loc = soup.find(\"div\", class_=\"restnt-loc ellipsis\")\n",
    "loc.text\n"
   ]
  },
  {
   "cell_type": "code",
   "execution_count": 12,
   "id": "b1469f14",
   "metadata": {},
   "outputs": [
    {
     "data": {
      "text/plain": [
       "'5'"
      ]
     },
     "execution_count": 12,
     "metadata": {},
     "output_type": "execute_result"
    }
   ],
   "source": [
    "# iv) Ratings\n",
    "rating = soup.find(\"div\", class_=\"restnt-rating rating-5\")\n",
    "rating.text"
   ]
  },
  {
   "cell_type": "code",
   "execution_count": 13,
   "id": "a742425c",
   "metadata": {},
   "outputs": [
    {
     "data": {
      "text/plain": [
       "'https://im1.dineout.co.in/images/uploads/restaurant/sharpen/1/d/m/p133271-170455034765995fcb87ba1.jpg?tr=tr:n-medium'"
      ]
     },
     "execution_count": 13,
     "metadata": {},
     "output_type": "execute_result"
    }
   ],
   "source": [
    "# v) Image URL\n",
    "image_url=soup.find(\"img\", class_=\"no-img\")\n",
    "image_url[\"data-src\"]"
   ]
  },
  {
   "cell_type": "markdown",
   "id": "f6b1e46a",
   "metadata": {},
   "source": [
    "4) Write s python program to display list of respected a) Name of President\n",
    "\n",
    "b) Tenure od President and make data frame.\n",
    "\n",
    "link: https://presidentofindia.nic.in/former-presidents\n"
   ]
  },
  {
   "cell_type": "code",
   "execution_count": 14,
   "id": "ea6eb631",
   "metadata": {},
   "outputs": [],
   "source": [
    "page = requests.get(\"https://presidentofindia.nic.in/former-presidents\")\n",
    "soup = BeautifulSoup(page.content)"
   ]
  },
  {
   "cell_type": "code",
   "execution_count": 15,
   "id": "1fa67cce",
   "metadata": {},
   "outputs": [
    {
     "data": {
      "text/plain": [
       "['Shri Ram Nath Kovind\\n14th President of India',\n",
       " 'Shri Pranab Mukherjee\\n13th President of India',\n",
       " 'Smt Pratibha Devisingh Patil\\n12th President of India',\n",
       " 'DR. A.P.J. Abdul Kalam\\n11th President of India',\n",
       " 'Shri K. R. Narayanan\\n10th President of India',\n",
       " 'Dr Shankar Dayal Sharma\\n9th  President of India',\n",
       " 'Shri R Venkataraman\\n8th President of India',\n",
       " 'Giani Zail Singh\\n7th President of India',\n",
       " 'Shri Neelam Sanjiva Reddy\\n6th President of India',\n",
       " 'Dr. Fakhruddin Ali Ahmed\\n5th President of India',\n",
       " 'Shri Varahagiri Venkata Giri\\n4th President of India',\n",
       " 'Dr. Zakir Husain\\n3rd President of India',\n",
       " 'Dr. Sarvepalli Radhakrishnan\\n2nd President of India',\n",
       " 'Dr. Rajendra Prasad\\n1st President of India']"
      ]
     },
     "execution_count": 15,
     "metadata": {},
     "output_type": "execute_result"
    }
   ],
   "source": [
    "# Name\n",
    "president_name = []\n",
    "for i in soup.find_all(\"div\",class_=\"desc-sec\"):\n",
    "    president_name.append(i.text.strip())\n",
    "president_name"
   ]
  },
  {
   "cell_type": "code",
   "execution_count": 16,
   "id": "a3a65a82",
   "metadata": {},
   "outputs": [
    {
     "data": {
      "text/html": [
       "<div>\n",
       "<style scoped>\n",
       "    .dataframe tbody tr th:only-of-type {\n",
       "        vertical-align: middle;\n",
       "    }\n",
       "\n",
       "    .dataframe tbody tr th {\n",
       "        vertical-align: top;\n",
       "    }\n",
       "\n",
       "    .dataframe thead th {\n",
       "        text-align: right;\n",
       "    }\n",
       "</style>\n",
       "<table border=\"1\" class=\"dataframe\">\n",
       "  <thead>\n",
       "    <tr style=\"text-align: right;\">\n",
       "      <th></th>\n",
       "      <th>Tenure</th>\n",
       "      <th>President's Name</th>\n",
       "    </tr>\n",
       "  </thead>\n",
       "  <tbody>\n",
       "    <tr>\n",
       "      <th>0</th>\n",
       "      <td>14th President of India</td>\n",
       "      <td>Shri Ram Nath Kovind</td>\n",
       "    </tr>\n",
       "    <tr>\n",
       "      <th>1</th>\n",
       "      <td>13th President of India</td>\n",
       "      <td>Shri Pranab Mukherjee</td>\n",
       "    </tr>\n",
       "    <tr>\n",
       "      <th>2</th>\n",
       "      <td>12th President of India</td>\n",
       "      <td>Smt Pratibha Devisingh Patil</td>\n",
       "    </tr>\n",
       "    <tr>\n",
       "      <th>3</th>\n",
       "      <td>11th President of India</td>\n",
       "      <td>DR. A.P.J. Abdul Kalam</td>\n",
       "    </tr>\n",
       "    <tr>\n",
       "      <th>4</th>\n",
       "      <td>10th President of India</td>\n",
       "      <td>Shri K. R. Narayanan</td>\n",
       "    </tr>\n",
       "    <tr>\n",
       "      <th>5</th>\n",
       "      <td>9th  President of India</td>\n",
       "      <td>Dr Shankar Dayal Sharma</td>\n",
       "    </tr>\n",
       "    <tr>\n",
       "      <th>6</th>\n",
       "      <td>8th President of India</td>\n",
       "      <td>Shri R Venkataraman</td>\n",
       "    </tr>\n",
       "    <tr>\n",
       "      <th>7</th>\n",
       "      <td>7th President of India</td>\n",
       "      <td>Giani Zail Singh</td>\n",
       "    </tr>\n",
       "    <tr>\n",
       "      <th>8</th>\n",
       "      <td>6th President of India</td>\n",
       "      <td>Shri Neelam Sanjiva Reddy</td>\n",
       "    </tr>\n",
       "    <tr>\n",
       "      <th>9</th>\n",
       "      <td>5th President of India</td>\n",
       "      <td>Dr. Fakhruddin Ali Ahmed</td>\n",
       "    </tr>\n",
       "    <tr>\n",
       "      <th>10</th>\n",
       "      <td>4th President of India</td>\n",
       "      <td>Shri Varahagiri Venkata Giri</td>\n",
       "    </tr>\n",
       "    <tr>\n",
       "      <th>11</th>\n",
       "      <td>3rd President of India</td>\n",
       "      <td>Dr. Zakir Husain</td>\n",
       "    </tr>\n",
       "    <tr>\n",
       "      <th>12</th>\n",
       "      <td>2nd President of India</td>\n",
       "      <td>Dr. Sarvepalli Radhakrishnan</td>\n",
       "    </tr>\n",
       "    <tr>\n",
       "      <th>13</th>\n",
       "      <td>1st President of India</td>\n",
       "      <td>Dr. Rajendra Prasad</td>\n",
       "    </tr>\n",
       "  </tbody>\n",
       "</table>\n",
       "</div>"
      ],
      "text/plain": [
       "                     Tenure              President's Name\n",
       "0   14th President of India          Shri Ram Nath Kovind\n",
       "1   13th President of India         Shri Pranab Mukherjee\n",
       "2   12th President of India  Smt Pratibha Devisingh Patil\n",
       "3   11th President of India        DR. A.P.J. Abdul Kalam\n",
       "4   10th President of India          Shri K. R. Narayanan\n",
       "5   9th  President of India       Dr Shankar Dayal Sharma\n",
       "6    8th President of India           Shri R Venkataraman\n",
       "7    7th President of India              Giani Zail Singh\n",
       "8    6th President of India     Shri Neelam Sanjiva Reddy\n",
       "9    5th President of India      Dr. Fakhruddin Ali Ahmed\n",
       "10   4th President of India  Shri Varahagiri Venkata Giri\n",
       "11   3rd President of India              Dr. Zakir Husain\n",
       "12   2nd President of India  Dr. Sarvepalli Radhakrishnan\n",
       "13   1st President of India           Dr. Rajendra Prasad"
      ]
     },
     "execution_count": 16,
     "metadata": {},
     "output_type": "execute_result"
    }
   ],
   "source": [
    "df = pd.DataFrame({\"President Name\":president_name})\n",
    "\n",
    "def get_tenure(president_name):\n",
    "    return president_name.split(\"\\n\")[1].strip(\" \")\n",
    "def get_name(president_name):\n",
    "    return president_name.split(\"\\n\")[0].strip(\" \")\n",
    "\n",
    "\n",
    "df['Tenure'] = df['President Name'].apply(lambda x: f\"{get_tenure(x)}\") \n",
    "\n",
    "df[\"President's Name\"] = df['President Name'].apply(lambda x: f\"{get_name(x)}\") \n",
    "df.drop([\"President Name\"], axis=1, inplace=True)\n",
    "df"
   ]
  },
  {
   "cell_type": "code",
   "execution_count": null,
   "id": "85411c16",
   "metadata": {},
   "outputs": [],
   "source": []
  }
 ],
 "metadata": {
  "kernelspec": {
   "display_name": "Python 3 (ipykernel)",
   "language": "python",
   "name": "python3"
  },
  "language_info": {
   "codemirror_mode": {
    "name": "ipython",
    "version": 3
   },
   "file_extension": ".py",
   "mimetype": "text/x-python",
   "name": "python",
   "nbconvert_exporter": "python",
   "pygments_lexer": "ipython3",
   "version": "3.9.12"
  }
 },
 "nbformat": 4,
 "nbformat_minor": 5
}
